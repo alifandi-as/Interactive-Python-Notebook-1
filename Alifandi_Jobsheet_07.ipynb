{
  "nbformat": 4,
  "nbformat_minor": 0,
  "metadata": {
    "colab": {
      "provenance": [],
      "authorship_tag": "ABX9TyPdZwsaelWQw1spqKdq7fhx",
      "include_colab_link": true
    },
    "kernelspec": {
      "name": "python3",
      "display_name": "Python 3"
    },
    "language_info": {
      "name": "python"
    }
  },
  "cells": [
    {
      "cell_type": "markdown",
      "metadata": {
        "id": "view-in-github",
        "colab_type": "text"
      },
      "source": [
        "<a href=\"https://colab.research.google.com/github/alifandi-as/Interactive-Python-Notebook-1/blob/main/Alifandi_Jobsheet_07.ipynb\" target=\"_parent\"><img src=\"https://colab.research.google.com/assets/colab-badge.svg\" alt=\"Open In Colab\"/></a>"
      ]
    },
    {
      "cell_type": "markdown",
      "source": [
        "# **Praktikum 01 - Tuple: Data Tetap**"
      ],
      "metadata": {
        "id": "c0yPTBcU-ba_"
      }
    },
    {
      "cell_type": "code",
      "execution_count": 1,
      "metadata": {
        "colab": {
          "base_uri": "https://localhost:8080/"
        },
        "id": "SjWIxZMa9Zqs",
        "outputId": "52974c4b-2168-4a77-8c27-7345554466a1"
      },
      "outputs": [
        {
          "output_type": "stream",
          "name": "stdout",
          "text": [
            "Lintang: 7.05\n",
            "Bujur: 110.44\n"
          ]
        }
      ],
      "source": [
        "koordinat = (7.05, 110.44)\n",
        "print(\"Lintang:\", koordinat[0])\n",
        "print(\"Bujur:\", koordinat[1])"
      ]
    },
    {
      "cell_type": "markdown",
      "source": [
        "# **Praktikum 02 - Dictionary Dasar**"
      ],
      "metadata": {
        "id": "PpItyz91_HaY"
      }
    },
    {
      "cell_type": "code",
      "source": [
        "mahasiswa = {\n",
        "  \"NIM\": \"20251001\",\n",
        "  \"Nama\": \"Andi\",\n",
        "  \"Prodi\": \"TRK\"\n",
        "}\n",
        "\n",
        "print(\"NIM :\", mahasiswa[\"NIM\"])\n",
        "print(\"Nama:\", mahasiswa[\"Nama\"])\n",
        "print(\"Prodi:\", mahasiswa[\"Prodi\"])"
      ],
      "metadata": {
        "colab": {
          "base_uri": "https://localhost:8080/"
        },
        "id": "eIGXRJGv_KEJ",
        "outputId": "6f80aff3-9ca5-4033-cc9d-fd12566c1ced"
      },
      "execution_count": 2,
      "outputs": [
        {
          "output_type": "stream",
          "name": "stdout",
          "text": [
            "NIM : 20251001\n",
            "Nama: Andi\n",
            "Prodi: TRK\n"
          ]
        }
      ]
    },
    {
      "cell_type": "markdown",
      "source": [
        "# **Praktikum 03 - Operasi pada Dictionary**"
      ],
      "metadata": {
        "id": "czVxvamY_hf0"
      }
    },
    {
      "cell_type": "code",
      "source": [
        "mahasiswa = {\n",
        "\"NIM\": \"20251001\",\n",
        "\"Nama\": \"Andi\",\n",
        "\"Prodi\": \"TRK\"\n",
        "}\n",
        "\n",
        "mahasiswa[\"Umur\"] = 20 # menambah data\n",
        "mahasiswa[\"Prodi\"] = \"Teknik Komputer\" # memperbarui data\n",
        "del mahasiswa[\"Umur\"] # menghapus data\n",
        "\n",
        "print(mahasiswa)"
      ],
      "metadata": {
        "colab": {
          "base_uri": "https://localhost:8080/"
        },
        "id": "sbe2lV0-_ms2",
        "outputId": "e67e117a-bbc2-41cc-ed90-694644a8b99c"
      },
      "execution_count": 3,
      "outputs": [
        {
          "output_type": "stream",
          "name": "stdout",
          "text": [
            "{'NIM': '20251001', 'Nama': 'Andi', 'Prodi': 'Teknik Komputer'}\n"
          ]
        }
      ]
    },
    {
      "cell_type": "markdown",
      "source": [
        "# **Praktikum 04 - Set dan Operasi Himpunan**"
      ],
      "metadata": {
        "id": "Tnt1ldWYA-q_"
      }
    },
    {
      "cell_type": "code",
      "source": [
        "A = {1, 2, 3, 4}\n",
        "B = {3, 4, 5, 6}\n",
        "\n",
        "print(\"Union:\", A | B)\n",
        "print(\"Intersection:\", A & B)\n",
        "print(\"Difference:\", A - B)"
      ],
      "metadata": {
        "colab": {
          "base_uri": "https://localhost:8080/"
        },
        "id": "LV3PK5zJBTKm",
        "outputId": "3c8978a7-2402-404e-a2e4-1d31d10ae79d"
      },
      "execution_count": 6,
      "outputs": [
        {
          "output_type": "stream",
          "name": "stdout",
          "text": [
            "Union: {1, 2, 3, 4, 5, 6}\n",
            "Intersection: {3, 4}\n",
            "Difference: {1, 2}\n"
          ]
        }
      ]
    },
    {
      "cell_type": "markdown",
      "source": [
        "# **Praktikum 05 - Studi Kasus: Data Mahasiswa dan Mata Kuliah**"
      ],
      "metadata": {
        "id": "dxA3PIL6BYQT"
      }
    },
    {
      "cell_type": "code",
      "source": [
        "mhs1 = {\"Algoritma\", \"Matematika\", \"Bahasa Inggris\"}\n",
        "mhs2 = {\"Algoritma\", \"Basis Data\", \"Matematika\"}\n",
        "\n",
        "print(\"Mata kuliah Mhs1:\", mhs1)\n",
        "print(\"Mata kuliah Mhs2:\", mhs2)\n",
        "print(\"Mata kuliah yang sama:\", mhs1 & mhs2)"
      ],
      "metadata": {
        "colab": {
          "base_uri": "https://localhost:8080/"
        },
        "id": "cRPOLIfzBbD8",
        "outputId": "b1340a6b-14e0-4b6e-eafb-a3d8b1d2c4cc"
      },
      "execution_count": 5,
      "outputs": [
        {
          "output_type": "stream",
          "name": "stdout",
          "text": [
            "Mata kuliah Mhs1: {'Matematika', 'Algoritma', 'Bahasa Inggris'}\n",
            "Mata kuliah Mhs2: {'Matematika', 'Algoritma', 'Basis Data'}\n",
            "Mata kuliah yang sama: {'Matematika', 'Algoritma'}\n"
          ]
        }
      ]
    },
    {
      "cell_type": "markdown",
      "source": [
        "# **Praktikum 06 – Studi Kasus Dictionary: Daftar Nilai Mahasiswa**"
      ],
      "metadata": {
        "id": "zk15RAtvBgz0"
      }
    },
    {
      "cell_type": "code",
      "source": [
        "nilai_mahasiswa = {\n",
        "    \"Andi\": 80,\n",
        "    \"Budi\": 75,\n",
        "    \"Cici\": 90\n",
        "}\n",
        "\n",
        "for nama, nilai in nilai_mahasiswa.items():\n",
        "    print(f\"{nama}: {nilai}\")\n",
        "\n",
        "rata = sum(nilai_mahasiswa.values()) / len(nilai_mahasiswa)\n",
        "print(f\"Rata-rata nilai: {rata:.2f}\")"
      ],
      "metadata": {
        "colab": {
          "base_uri": "https://localhost:8080/"
        },
        "id": "E8bFrtImBjoL",
        "outputId": "868f1dcf-afe1-49fe-a2f3-58ea04c1edfc"
      },
      "execution_count": 7,
      "outputs": [
        {
          "output_type": "stream",
          "name": "stdout",
          "text": [
            "Andi: 80\n",
            "Budi: 75\n",
            "Cici: 90\n",
            "Rata-rata nilai: 81.67\n"
          ]
        }
      ]
    },
    {
      "cell_type": "markdown",
      "source": [
        "# **Penugasan 1: Tuple Sederhana**"
      ],
      "metadata": {
        "id": "zr6X5eWpB8FM"
      }
    },
    {
      "cell_type": "code",
      "source": [
        "data_tuple = (\"Christie\", 20, \"Teknologi Rekayasa Komputer\" )\n",
        "print(f\"Nama: {data_tuple[0]}\")\n",
        "print(f\"Umur: {data_tuple[1]}\")\n",
        "print(f\"Prodi: {data_tuple[2]}\")"
      ],
      "metadata": {
        "colab": {
          "base_uri": "https://localhost:8080/"
        },
        "id": "z-6jSmx5B_UJ",
        "outputId": "c7a5eacf-cad8-41f2-8580-adc64e5e636b"
      },
      "execution_count": 14,
      "outputs": [
        {
          "output_type": "stream",
          "name": "stdout",
          "text": [
            "Nama: Christie\n",
            "Umur: 20\n",
            "Prodi: Teknologi Rekayasa Komputer\n"
          ]
        }
      ]
    },
    {
      "cell_type": "markdown",
      "source": [
        "# **Penugasan 2: Tuple Tidak Bisa Diubah**"
      ],
      "metadata": {
        "id": "fkOCDkzvCgJK"
      }
    },
    {
      "cell_type": "code",
      "source": [
        "'''\n",
        "Tuple merupakan objek immutable, artinya\n",
        "tidak dapat diubah setelah dibuat.\n",
        "'''\n",
        "\n",
        "angka = (1, 2, 3)\n",
        "angka[0] = -1"
      ],
      "metadata": {
        "colab": {
          "base_uri": "https://localhost:8080/",
          "height": 211
        },
        "id": "v-pnJIUbCj1P",
        "outputId": "e267d158-4f90-4e1d-cf74-a03b984c0a0e"
      },
      "execution_count": 27,
      "outputs": [
        {
          "output_type": "error",
          "ename": "TypeError",
          "evalue": "'tuple' object does not support item assignment",
          "traceback": [
            "\u001b[0;31m---------------------------------------------------------------------------\u001b[0m",
            "\u001b[0;31mTypeError\u001b[0m                                 Traceback (most recent call last)",
            "\u001b[0;32m/tmp/ipython-input-486024048.py\u001b[0m in \u001b[0;36m<cell line: 0>\u001b[0;34m()\u001b[0m\n\u001b[1;32m      5\u001b[0m \u001b[0;34m\u001b[0m\u001b[0m\n\u001b[1;32m      6\u001b[0m \u001b[0mangka\u001b[0m \u001b[0;34m=\u001b[0m \u001b[0;34m(\u001b[0m\u001b[0;36m1\u001b[0m\u001b[0;34m,\u001b[0m \u001b[0;36m2\u001b[0m\u001b[0;34m,\u001b[0m \u001b[0;36m3\u001b[0m\u001b[0;34m)\u001b[0m\u001b[0;34m\u001b[0m\u001b[0;34m\u001b[0m\u001b[0m\n\u001b[0;32m----> 7\u001b[0;31m \u001b[0mangka\u001b[0m\u001b[0;34m[\u001b[0m\u001b[0;36m0\u001b[0m\u001b[0;34m]\u001b[0m \u001b[0;34m=\u001b[0m \u001b[0;34m-\u001b[0m\u001b[0;36m1\u001b[0m\u001b[0;34m\u001b[0m\u001b[0;34m\u001b[0m\u001b[0m\n\u001b[0m",
            "\u001b[0;31mTypeError\u001b[0m: 'tuple' object does not support item assignment"
          ]
        }
      ]
    },
    {
      "cell_type": "markdown",
      "source": [
        "# **Penugasan 3: Dictionary Dasar**"
      ],
      "metadata": {
        "id": "Yz6xbfHSDdms"
      }
    },
    {
      "cell_type": "code",
      "source": [
        "dictionary = {\n",
        "    \"Judul\": \"Algoritma\",\n",
        "    \"Penulis\": \"Munir\",\n",
        "    \"Tahun\": 2021\n",
        "}\n",
        "print(dictionary[\"Judul\"])\n",
        "print(dictionary[\"Penulis\"])\n",
        "print(dictionary[\"Tahun\"])"
      ],
      "metadata": {
        "colab": {
          "base_uri": "https://localhost:8080/"
        },
        "id": "eWPtwr6iDi42",
        "outputId": "d539a8c0-446d-4521-8f54-a8e5ac8b30b3"
      },
      "execution_count": 15,
      "outputs": [
        {
          "output_type": "stream",
          "name": "stdout",
          "text": [
            "Algoritma\n",
            "Munir\n",
            "2021\n"
          ]
        }
      ]
    },
    {
      "cell_type": "markdown",
      "source": [
        "# **Penugasan 4: Operasi Dictionary**"
      ],
      "metadata": {
        "id": "w2dhi2_5EoJ-"
      }
    },
    {
      "cell_type": "code",
      "source": [
        "dictionary = {\n",
        "    \"NIP\": \"12345\",\n",
        "    \"Nama\": \"Budi\",\n",
        "    \"Prodi\": \"TRK\"\n",
        "}\n",
        "dictionary[\"Umur\"] = 40\n",
        "dictionary[\"Prodi\"] = \"Teknik Komputer\"\n",
        "dictionary.pop(\"Umur\")\n",
        "\n",
        "print(dictionary)"
      ],
      "metadata": {
        "colab": {
          "base_uri": "https://localhost:8080/"
        },
        "id": "0LxuZFMrEsAq",
        "outputId": "917400cc-940a-4529-f5d6-9d1c5f17181e"
      },
      "execution_count": 18,
      "outputs": [
        {
          "output_type": "stream",
          "name": "stdout",
          "text": [
            "{'NIP': '12345', 'Nama': 'Budi', 'Prodi': 'Teknik Komputer'}\n"
          ]
        }
      ]
    },
    {
      "cell_type": "markdown",
      "source": [
        "# **Penugasan 5: Set dan Himpunan**"
      ],
      "metadata": {
        "id": "fHK2oK6dFM_c"
      }
    },
    {
      "cell_type": "code",
      "source": [
        "A = {\"Matematika\", \"Algoritma\", \"Bahasa Inggris\"}\n",
        "B = {\"Algoritma\", \"Basis Data\", \"Matematika\"}\n",
        "\n",
        "print(\"Union:\", A | B)\n",
        "print(\"Intersection:\", A & B)\n",
        "print(\"Difference:\", A - B)"
      ],
      "metadata": {
        "colab": {
          "base_uri": "https://localhost:8080/"
        },
        "id": "Jdwn0WQfFU4o",
        "outputId": "95d2aeaf-2945-4221-b878-d8313524ab67"
      },
      "execution_count": 19,
      "outputs": [
        {
          "output_type": "stream",
          "name": "stdout",
          "text": [
            "Union: {'Matematika', 'Bahasa Inggris', 'Algoritma', 'Basis Data'}\n",
            "Intersection: {'Matematika', 'Algoritma'}\n",
            "Difference: {'Bahasa Inggris'}\n"
          ]
        }
      ]
    },
    {
      "cell_type": "markdown",
      "source": [
        "# **Penugasan 6: Studi Kasus Dictionary**"
      ],
      "metadata": {
        "id": "EOyi0LjgFkXT"
      }
    },
    {
      "cell_type": "code",
      "source": [
        "nilai = {\"Andi\": 85, \"Budi\": 90, \"Cici\": 78}\n",
        "rata = sum(nilai.values()) / len(nilai)\n",
        "\n",
        "for nama, score in nilai.items():\n",
        "    print(f\"{nama} {score}\")\n",
        "\n",
        "print(f\"Rata-rata nilai: {rata:.2f}\")"
      ],
      "metadata": {
        "colab": {
          "base_uri": "https://localhost:8080/"
        },
        "id": "j7QElhV4FoKJ",
        "outputId": "3719bfd2-6aec-47c0-97bf-8b7462028573"
      },
      "execution_count": 25,
      "outputs": [
        {
          "output_type": "stream",
          "name": "stdout",
          "text": [
            "Andi 85\n",
            "Budi 90\n",
            "Cici 78\n",
            "Rata-rata nilai: 84.33\n"
          ]
        }
      ]
    },
    {
      "cell_type": "markdown",
      "source": [
        "# **Penugasan 7: Studi Kasus Set - Klub Mahasiswa**"
      ],
      "metadata": {
        "id": "wTsmxNomGNeq"
      }
    },
    {
      "cell_type": "code",
      "source": [
        "A = {\"Andi\", \"Budi\", \"Cici\"}\n",
        "B = {\"Cici\", \"Deni\", \"Eka\"}\n",
        "\n",
        "print(f\"Daftar seluruh anggota: {A | B}\")\n",
        "print(f\"Daftar anggota yang ada dalam kedua klub: {A & B}\")\n",
        "print(f\"Daftar anggota eksklusif A: {A - B}\")"
      ],
      "metadata": {
        "colab": {
          "base_uri": "https://localhost:8080/"
        },
        "id": "a4UAx93QIeSs",
        "outputId": "10de86ab-a39f-4f67-e04f-05fbfe067469"
      },
      "execution_count": 26,
      "outputs": [
        {
          "output_type": "stream",
          "name": "stdout",
          "text": [
            "Daftar seluruh anggota: {'Budi', 'Cici', 'Deni', 'Eka', 'Andi'}\n",
            "Daftar anggota yang ada dalam kedua klub: {'Cici'}\n",
            "Daftar anggota eksklusif A: {'Andi', 'Budi'}\n"
          ]
        }
      ]
    }
  ]
}