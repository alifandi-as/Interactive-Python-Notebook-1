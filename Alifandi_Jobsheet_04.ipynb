{
  "nbformat": 4,
  "nbformat_minor": 0,
  "metadata": {
    "colab": {
      "provenance": [],
      "authorship_tag": "ABX9TyPkbKy7W9Yew9cEZlwpAYp8",
      "include_colab_link": true
    },
    "kernelspec": {
      "name": "python3",
      "display_name": "Python 3"
    },
    "language_info": {
      "name": "python"
    }
  },
  "cells": [
    {
      "cell_type": "markdown",
      "metadata": {
        "id": "view-in-github",
        "colab_type": "text"
      },
      "source": [
        "<a href=\"https://colab.research.google.com/github/alifandi-as/Interactive-Python-Notebook-1/blob/main/Alifandi_Jobsheet_04.ipynb\" target=\"_parent\"><img src=\"https://colab.research.google.com/assets/colab-badge.svg\" alt=\"Open In Colab\"/></a>"
      ]
    },
    {
      "cell_type": "markdown",
      "source": [
        "# **Praktikum 01 - For dengan Range**"
      ],
      "metadata": {
        "id": "WZYhghKOWEOC"
      }
    },
    {
      "cell_type": "code",
      "source": [
        "for i in range(1, 6):\n",
        "  print(i)"
      ],
      "metadata": {
        "colab": {
          "base_uri": "https://localhost:8080/"
        },
        "id": "6vJRl_2zWFSw",
        "outputId": "5a31d5f7-d1b6-4272-b0c7-8270cc1cdf73"
      },
      "execution_count": null,
      "outputs": [
        {
          "output_type": "stream",
          "name": "stdout",
          "text": [
            "1\n",
            "2\n",
            "3\n",
            "4\n",
            "5\n"
          ]
        }
      ]
    },
    {
      "cell_type": "markdown",
      "source": [
        "# **Praktikum 02 - While (Hitung Mundur)**"
      ],
      "metadata": {
        "id": "IASOB9YNW652"
      }
    },
    {
      "cell_type": "code",
      "source": [
        "n = int(input(\"Masukkan angka: \"))\n",
        "while n > 0:\n",
        "  print(n)\n",
        "  n -= 1"
      ],
      "metadata": {
        "colab": {
          "base_uri": "https://localhost:8080/"
        },
        "id": "qpkVaCBJW-JT",
        "outputId": "4429af89-3773-4c8f-806e-d831016089be"
      },
      "execution_count": null,
      "outputs": [
        {
          "output_type": "stream",
          "name": "stdout",
          "text": [
            "Masukkan angka: 5\n",
            "5\n",
            "4\n",
            "3\n",
            "2\n",
            "1\n"
          ]
        }
      ]
    },
    {
      "cell_type": "markdown",
      "source": [
        "# **Praktikum 03 - Nested Loop (Segitiga Bintang)**"
      ],
      "metadata": {
        "id": "4takePasXJP4"
      }
    },
    {
      "cell_type": "code",
      "source": [
        "for i in range(1, 6):\n",
        "  for j in range(i):\n",
        "    print(\"*\", end=\"\")\n",
        "  print()"
      ],
      "metadata": {
        "colab": {
          "base_uri": "https://localhost:8080/"
        },
        "id": "Mp_D5698XMrm",
        "outputId": "d47c1462-ebb2-4176-9e76-76931addee82"
      },
      "execution_count": null,
      "outputs": [
        {
          "output_type": "stream",
          "name": "stdout",
          "text": [
            "*\n",
            "**\n",
            "***\n",
            "****\n",
            "*****\n"
          ]
        }
      ]
    },
    {
      "cell_type": "markdown",
      "source": [
        "# **Praktikum 04.1 - Break**"
      ],
      "metadata": {
        "id": "aborcNnwXYxf"
      }
    },
    {
      "cell_type": "code",
      "source": [
        "for i in range(1, 11):\n",
        "  if i == 5:\n",
        "    print(\"Angka 5 ditemukan\")\n",
        "    break"
      ],
      "metadata": {
        "colab": {
          "base_uri": "https://localhost:8080/"
        },
        "id": "Ada4Eii4Xbwp",
        "outputId": "30759a2d-3a58-4ec3-820c-8b8fc69b7715"
      },
      "execution_count": null,
      "outputs": [
        {
          "output_type": "stream",
          "name": "stdout",
          "text": [
            "Angka 5 ditemukan\n"
          ]
        }
      ]
    },
    {
      "cell_type": "markdown",
      "source": [
        "# **Praktikum 04.2 - Continue**"
      ],
      "metadata": {
        "id": "K_LYozt8XxnC"
      }
    },
    {
      "cell_type": "code",
      "source": [
        "for i in range(1, 6 ):\n",
        "  if i % 2 == 1:\n",
        "    continue\n",
        "  print(i)"
      ],
      "metadata": {
        "colab": {
          "base_uri": "https://localhost:8080/"
        },
        "id": "gqPMNWreXz6S",
        "outputId": "ed12546c-42e6-4e82-b06a-a2e888c1aa25"
      },
      "execution_count": null,
      "outputs": [
        {
          "output_type": "stream",
          "name": "stdout",
          "text": [
            "2\n",
            "4\n"
          ]
        }
      ]
    },
    {
      "cell_type": "markdown",
      "source": [
        "# **Praktikum 05 - For pada Dictionary**"
      ],
      "metadata": {
        "id": "4Qx9Sl1iX4dz"
      }
    },
    {
      "cell_type": "code",
      "source": [
        "data = {\"Nama\": \"Andi\", \"Umur\": 20, \"Prodi\": \"TRK\"}\n",
        "\n",
        "for k, v in data.items():\n",
        "  print(k, \":\", v)"
      ],
      "metadata": {
        "colab": {
          "base_uri": "https://localhost:8080/"
        },
        "id": "nZYwSnwqX6yZ",
        "outputId": "9992bb26-af50-43d0-d6b0-0801d47a62d8"
      },
      "execution_count": null,
      "outputs": [
        {
          "output_type": "stream",
          "name": "stdout",
          "text": [
            "Nama : Andi\n",
            "Umur : 20\n",
            "Prodi : TRK\n"
          ]
        }
      ]
    },
    {
      "cell_type": "markdown",
      "source": [
        "# **Praktikum 06 - For dengan Enumerate**"
      ],
      "metadata": {
        "id": "QyOcY8yJcoyn"
      }
    },
    {
      "cell_type": "code",
      "source": [
        "daftar = [\"Andi\", \"Budi\", \"Cici\"]\n",
        "\n",
        "for i, nama in enumerate(daftar, start=1):\n",
        "  print(i, nama)"
      ],
      "metadata": {
        "colab": {
          "base_uri": "https://localhost:8080/"
        },
        "id": "Tp_ObZkrcsQs",
        "outputId": "03d73468-1a56-4731-aaf9-dcae9015e49d"
      },
      "execution_count": null,
      "outputs": [
        {
          "output_type": "stream",
          "name": "stdout",
          "text": [
            "1 Andi\n",
            "2 Budi\n",
            "3 Cici\n"
          ]
        }
      ]
    },
    {
      "cell_type": "markdown",
      "source": [
        "# **Praktikum 07 - Studi Kasus: Program Kasir Multi-Item**"
      ],
      "metadata": {
        "id": "wQ_WHzNFc3Za"
      }
    },
    {
      "cell_type": "code",
      "source": [
        "total = 0\n",
        "\n",
        "while True:\n",
        "  barang = input(\"Masukkan nama barang (ketik 'selesai' untuk berhenti): \")\n",
        "  if barang.lower() == \"selesai\":\n",
        "    break\n",
        "  harga = float(input(f\"Masukkan harga {barang}: \"))\n",
        "  jumlah = int(input(f\"Masukkan jumlah {barang}: \"))\n",
        "  subtotal = harga * jumlah\n",
        "  total += subtotal\n",
        "\n",
        "print(\"\\n==== Struk Belanja =====\")\n",
        "print(f\"Total Belanja : Rp {total}\")"
      ],
      "metadata": {
        "colab": {
          "base_uri": "https://localhost:8080/"
        },
        "id": "WG8pFFpfc8kG",
        "outputId": "89d3d143-4691-4c00-c2da-a795cd38036b"
      },
      "execution_count": null,
      "outputs": [
        {
          "output_type": "stream",
          "name": "stdout",
          "text": [
            "Masukkan nama barang (ketik 'selesai' untuk berhenti): Buku\n",
            "Masukkan harga Buku: 50000\n",
            "Masukkan jumlah Buku: 2\n",
            "Masukkan nama barang (ketik 'selesai' untuk berhenti): Pulpen\n",
            "Masukkan harga Pulpen: 50000\n",
            "Masukkan jumlah Pulpen: 3\n",
            "Masukkan nama barang (ketik 'selesai' untuk berhenti): selesai\n",
            "\n",
            "==== Struk Belanja =====\n",
            "Total Belanja : Rp 250000.0\n"
          ]
        }
      ]
    },
    {
      "cell_type": "markdown",
      "source": [
        "# **Penugasan 1: Menampilkan Deret Angka**"
      ],
      "metadata": {
        "id": "_lSgaRVddlDj"
      }
    },
    {
      "cell_type": "code",
      "source": [
        "for i in range(3, 33, 3):\n",
        "  print(i)"
      ],
      "metadata": {
        "colab": {
          "base_uri": "https://localhost:8080/"
        },
        "id": "ROBqvFBqdoXP",
        "outputId": "2adafc1e-0da5-4356-bcde-59101b6125c2"
      },
      "execution_count": null,
      "outputs": [
        {
          "output_type": "stream",
          "name": "stdout",
          "text": [
            "3\n",
            "6\n",
            "9\n",
            "12\n",
            "15\n",
            "18\n",
            "21\n",
            "24\n",
            "27\n",
            "30\n"
          ]
        }
      ]
    },
    {
      "cell_type": "markdown",
      "source": [
        "# **Penugasan 2: Hitung Faktorial**"
      ],
      "metadata": {
        "id": "8rI2S9v1d4EC"
      }
    },
    {
      "cell_type": "code",
      "source": [
        "n = int(input(\"Masukkan nilai bilangan: \"))\n",
        "factorial = n\n",
        "while n > 2:\n",
        "  factorial = factorial * (n - 1)\n",
        "  n -= 1\n",
        "\n",
        "print(f\"Nilai faktorial adalah: {factorial}\")"
      ],
      "metadata": {
        "colab": {
          "base_uri": "https://localhost:8080/"
        },
        "id": "KqkcDerFd7Qf",
        "outputId": "29ecee65-0a9c-4b64-8dff-a7d740f1f9cf"
      },
      "execution_count": null,
      "outputs": [
        {
          "output_type": "stream",
          "name": "stdout",
          "text": [
            "Masukkan nilai bilangan: 7\n",
            "Nilai faktorial adalah: 5040\n"
          ]
        }
      ]
    },
    {
      "cell_type": "markdown",
      "source": [
        "# **Penugasan 3: Pola Segitiga Terbalik**"
      ],
      "metadata": {
        "id": "Kmncr0uve-P8"
      }
    },
    {
      "cell_type": "code",
      "source": [
        "for i in range (5, 0, -1):\n",
        "  for j in range(i):\n",
        "    print(\"*\", end=\" \")\n",
        "  print()"
      ],
      "metadata": {
        "colab": {
          "base_uri": "https://localhost:8080/"
        },
        "id": "ZMsIAHOlfDzc",
        "outputId": "3a72b1c7-8fa7-45de-8111-096704a44cf7"
      },
      "execution_count": null,
      "outputs": [
        {
          "output_type": "stream",
          "name": "stdout",
          "text": [
            "* * * * * \n",
            "* * * * \n",
            "* * * \n",
            "* * \n",
            "* \n"
          ]
        }
      ]
    },
    {
      "cell_type": "markdown",
      "source": [
        "# **Penugasan 4: Cari Bilangan Prima dengan Break**"
      ],
      "metadata": {
        "id": "_-3j4oUUfVr9"
      }
    },
    {
      "cell_type": "code",
      "source": [
        "num = int(input(\"Masukkan nilai yang akan dicari primanya: \"))\n",
        "prime = True\n",
        "\n",
        "for i in range(2, num):\n",
        "  if num % i == 0:\n",
        "    prime = False\n",
        "    break\n",
        "\n",
        "if (prime):\n",
        "  print(\"Ini bilangan prima\")\n",
        "else:\n",
        "  print(\"Ini bukan bilangan prima\")"
      ],
      "metadata": {
        "id": "UaKdYp_0pHgs",
        "colab": {
          "base_uri": "https://localhost:8080/"
        },
        "outputId": "6f527d12-c1fb-4ad5-c09c-9a1f44059597"
      },
      "execution_count": null,
      "outputs": [
        {
          "output_type": "stream",
          "name": "stdout",
          "text": [
            "Masukkan nilai yang akan dicari primanya: 15\n",
            "Ini bukan bilangan prima\n"
          ]
        }
      ]
    },
    {
      "cell_type": "markdown",
      "source": [
        "# **Penugasan 5: Tampilkan Hanya Bilangan Genap dengan Continue**"
      ],
      "metadata": {
        "id": "uYU4v4zI8x1H"
      }
    },
    {
      "cell_type": "code",
      "source": [
        "for i in range(0, 21):\n",
        "  if i % 2 == 1:\n",
        "    continue\n",
        "  print(i)"
      ],
      "metadata": {
        "id": "lip4xYS19Rod",
        "colab": {
          "base_uri": "https://localhost:8080/"
        },
        "outputId": "30648e43-0241-4680-8dcb-99ca2d1a3c18"
      },
      "execution_count": null,
      "outputs": [
        {
          "output_type": "stream",
          "name": "stdout",
          "text": [
            "0\n",
            "2\n",
            "4\n",
            "6\n",
            "8\n",
            "10\n",
            "12\n",
            "14\n",
            "16\n",
            "18\n",
            "20\n"
          ]
        }
      ]
    },
    {
      "cell_type": "markdown",
      "source": [
        "# **Penugasan 6: Iterasi Dictionary Mahasiswa**"
      ],
      "metadata": {
        "id": "zjpux_v79SFv"
      }
    },
    {
      "cell_type": "code",
      "source": [
        "mahasiswa = {\"Nama\":\"Budi\", \"Umur\":21, \"Prodi\":\"Teknik Komputer\"}\n",
        "\n",
        "for k, v in mahasiswa.items():\n",
        "  print(k, \":\", v)"
      ],
      "metadata": {
        "id": "T14fqSUT9YzO",
        "colab": {
          "base_uri": "https://localhost:8080/"
        },
        "outputId": "54936975-6a24-4119-8f0a-6d29fa14f01d"
      },
      "execution_count": null,
      "outputs": [
        {
          "output_type": "stream",
          "name": "stdout",
          "text": [
            "Nama : Budi\n",
            "Umur : 21\n",
            "Prodi : Teknik Komputer\n"
          ]
        }
      ]
    },
    {
      "cell_type": "markdown",
      "source": [
        "# **Penugasan 7: Enumerate Daftar Barang**"
      ],
      "metadata": {
        "id": "z8XtToGz9ZhW"
      }
    },
    {
      "cell_type": "code",
      "source": [
        "daftar = [\"Buku\", \"Pulpen\", \"Tas\"]\n",
        "\n",
        "for i, nama in enumerate(daftar, start=1):\n",
        "  print(i, nama)"
      ],
      "metadata": {
        "id": "odgKOsws9uOG",
        "colab": {
          "base_uri": "https://localhost:8080/"
        },
        "outputId": "0472956a-f370-4043-88fa-984254c113d6"
      },
      "execution_count": null,
      "outputs": [
        {
          "output_type": "stream",
          "name": "stdout",
          "text": [
            "1 Buku\n",
            "2 Pulpen\n",
            "3 Tas\n"
          ]
        }
      ]
    },
    {
      "cell_type": "markdown",
      "source": [
        "# **Penugasan 8: Studi Kasus - Kasir Diskon**"
      ],
      "metadata": {
        "id": "mAykgaiE9umC"
      }
    },
    {
      "cell_type": "code",
      "source": [
        "total = 0\n",
        "nama = []\n",
        "harga = []\n",
        "daftar_barang = []\n",
        "while True:\n",
        "  barang = input(\"Masukkan nama barang: \")\n",
        "  if barang.lower() == \"selesai\":\n",
        "    break\n",
        "\n",
        "  harga = int(input(\"Masukkan harga barang: \"))\n",
        "  jumlah = int(input(\"Masukkan jumlah barang yang dibeli: \"))\n",
        "\n",
        "  daftar_barang.append({\"Nama\": barang, \"Jumlah\": jumlah, \"Harga\": harga * jumlah})\n",
        "\n",
        "  subtotal = harga * jumlah\n",
        "  total += subtotal\n",
        "\n",
        "  nama.append(barang)\n",
        "print(\"====== STRUK BELANJA ======\")\n",
        "for item_barang in daftar_barang:\n",
        "  for a, b in item_barang.items():\n",
        "    print(f\"{a}: {b}\")\n",
        "  print(\"\")\n",
        "\n",
        "if (total >= 200000):\n",
        "  total = total * 0.9\n",
        "  print(f\"Total belanja setelah diskon 10%: Rp {total}\")\n",
        "else:\n",
        "  print(f\"Total belanja: Rp {total}\")\n"
      ],
      "metadata": {
        "id": "YlQwT5Xw90OE",
        "colab": {
          "base_uri": "https://localhost:8080/"
        },
        "outputId": "92bd8bf6-89ed-4f55-dabd-963469497194"
      },
      "execution_count": null,
      "outputs": [
        {
          "output_type": "stream",
          "name": "stdout",
          "text": [
            "Masukkan nama barang: Sunlight\n",
            "Masukkan harga barang: 8000\n",
            "Masukkan jumlah barang yang dibeli: 14\n",
            "Masukkan nama barang: Kecap\n",
            "Masukkan harga barang: 4500\n",
            "Masukkan jumlah barang yang dibeli: 20\n",
            "Masukkan nama barang: Selesai\n",
            "====== STRUK BELANJA ======\n",
            "Nama: Sunlight\n",
            "Jumlah: 14\n",
            "Harga: 112000\n",
            "\n",
            "Nama: Kecap\n",
            "Jumlah: 20\n",
            "Harga: 90000\n",
            "\n",
            "Total belanja setelah diskon 10%: Rp 181800.0\n"
          ]
        }
      ]
    }
  ]
}