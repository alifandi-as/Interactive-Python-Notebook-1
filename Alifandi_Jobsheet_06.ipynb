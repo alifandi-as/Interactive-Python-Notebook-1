{
  "nbformat": 4,
  "nbformat_minor": 0,
  "metadata": {
    "colab": {
      "provenance": [],
      "authorship_tag": "ABX9TyPjmN2S5kPtHRhNSb65nqro",
      "include_colab_link": true
    },
    "kernelspec": {
      "name": "python3",
      "display_name": "Python 3"
    },
    "language_info": {
      "name": "python"
    }
  },
  "cells": [
    {
      "cell_type": "markdown",
      "metadata": {
        "id": "view-in-github",
        "colab_type": "text"
      },
      "source": [
        "<a href=\"https://colab.research.google.com/github/alifandi-as/Interactive-Python-Notebook-1/blob/main/Alifandi_Jobsheet_06.ipynb\" target=\"_parent\"><img src=\"https://colab.research.google.com/assets/colab-badge.svg\" alt=\"Open In Colab\"/></a>"
      ]
    },
    {
      "cell_type": "markdown",
      "source": [
        "# **Praktikum 01 - Membuat & Mengakses List ID**"
      ],
      "metadata": {
        "id": "NExGYFvUE6qh"
      }
    },
    {
      "cell_type": "code",
      "execution_count": null,
      "metadata": {
        "colab": {
          "base_uri": "https://localhost:8080/"
        },
        "id": "7BKDXxovE5cx",
        "outputId": "7365886b-82e5-4cbb-e832-2f3a82e7f0ce"
      },
      "outputs": [
        {
          "output_type": "stream",
          "name": "stdout",
          "text": [
            "Andi\n",
            "Budi\n",
            "Cici\n"
          ]
        }
      ],
      "source": [
        "mahasiswa = [\"Andi\", \"Budi\", \"Cici\"]\n",
        "print(mahasiswa[0]) # Andi\n",
        "print(mahasiswa[1]) # Budi\n",
        "print(mahasiswa[-1]) # Cici"
      ]
    },
    {
      "cell_type": "markdown",
      "source": [
        "# **Praktikum 02 - Update dan Operasi Dasar List**"
      ],
      "metadata": {
        "id": "vcOZ50MGFlqH"
      }
    },
    {
      "cell_type": "code",
      "source": [
        "nilai = [85, 90, 78]\n",
        "nilai[1] = 95\n",
        "nilai.append(100)\n",
        "nilai.remove(78)\n",
        "print(nilai)\n"
      ],
      "metadata": {
        "colab": {
          "base_uri": "https://localhost:8080/"
        },
        "id": "wEbolOmLFtNt",
        "outputId": "00f515c1-500d-4da1-d258-aeba3dcef478"
      },
      "execution_count": null,
      "outputs": [
        {
          "output_type": "stream",
          "name": "stdout",
          "text": [
            "[85, 95, 100]\n"
          ]
        }
      ]
    },
    {
      "cell_type": "markdown",
      "source": [
        "# **Praktikum 03 - Slicing List**"
      ],
      "metadata": {
        "id": "1fzRHwBXFwbM"
      }
    },
    {
      "cell_type": "code",
      "source": [
        "nilai = [85, 90, 78, 92, 88]\n",
        "print(nilai[0:3]) # [85, 90, 78]\n",
        "print(nilai[2:]) # [78, 92, 88]\n",
        "print(nilai[:3]) # [85, 90, 78]"
      ],
      "metadata": {
        "colab": {
          "base_uri": "https://localhost:8080/"
        },
        "id": "2toae4i9Fy7g",
        "outputId": "8734e842-87f0-4285-d157-bcb7b5de720e"
      },
      "execution_count": null,
      "outputs": [
        {
          "output_type": "stream",
          "name": "stdout",
          "text": [
            "[85, 90, 78]\n",
            "[78, 92, 88]\n",
            "[85, 90, 78]\n"
          ]
        }
      ]
    },
    {
      "cell_type": "markdown",
      "source": [
        "# **Praktikum 04 - List 2D (Matriks)**"
      ],
      "metadata": {
        "id": "LmONyQRhFwet"
      }
    },
    {
      "cell_type": "code",
      "source": [
        "matriks = [\n",
        "  [1, 2, 3],\n",
        "  [4, 5, 6],\n",
        "  [7, 8, 9]\n",
        "]\n",
        "\n",
        "print(matriks[0][0]) # 1\n",
        "print(matriks[1][2]) # 6\n",
        "print(matriks[2]) # [7, 8, 9]"
      ],
      "metadata": {
        "colab": {
          "base_uri": "https://localhost:8080/"
        },
        "id": "wYOTote_F3fl",
        "outputId": "475b58e8-2220-4181-b8e5-7e99e964de59"
      },
      "execution_count": null,
      "outputs": [
        {
          "output_type": "stream",
          "name": "stdout",
          "text": [
            "1\n",
            "6\n",
            "[7, 8, 9]\n"
          ]
        }
      ]
    },
    {
      "cell_type": "markdown",
      "source": [
        "# **Praktikum 05 - Operasi pada List 2D**"
      ],
      "metadata": {
        "id": "Qh-4h__OFwjQ"
      }
    },
    {
      "cell_type": "code",
      "source": [
        "A = [[1, 2, 3], [4, 5, 6]]\n",
        "B = [[7, 8, 9], [10, 11, 12]]\n",
        "C = []\n",
        "\n",
        "for i in range(len(A)):\n",
        "  baris = []\n",
        "  for j in range(len(A[0])):\n",
        "    baris.append(A[i][j] + B[i][j])\n",
        "  C.append(baris)\n",
        "print(C)"
      ],
      "metadata": {
        "colab": {
          "base_uri": "https://localhost:8080/"
        },
        "id": "wy-0qEVbGGBD",
        "outputId": "5d5e70ac-788d-402b-c2c5-771a67900995"
      },
      "execution_count": null,
      "outputs": [
        {
          "output_type": "stream",
          "name": "stdout",
          "text": [
            "[[8, 10, 12], [14, 16, 18]]\n"
          ]
        }
      ]
    },
    {
      "cell_type": "markdown",
      "source": [
        "# **Praktikum 06 - Studi Kasus: Pengelolaan Nilai Mahasiswa**"
      ],
      "metadata": {
        "id": "0eQF9kDyFwnK"
      }
    },
    {
      "cell_type": "code",
      "source": [
        "nilai = [\n",
        "  [80, 90, 85],\n",
        "  [70, 75, 80],\n",
        "  [88, 92, 84]\n",
        "]\n",
        "\n",
        "for i, baris in enumerate(nilai, start=1):\n",
        "  rata = sum(baris) / len(baris)\n",
        "  print(f\"Rata-rata mahasiswa {i}: {rata:.2f}\")"
      ],
      "metadata": {
        "colab": {
          "base_uri": "https://localhost:8080/"
        },
        "id": "CGLLHtcYGR2X",
        "outputId": "74c70c5b-0567-43bd-863e-60fb3ef4c20a"
      },
      "execution_count": null,
      "outputs": [
        {
          "output_type": "stream",
          "name": "stdout",
          "text": [
            "Rata-rata mahasiswa 1: 85.00\n",
            "Rata-rata mahasiswa 2: 75.00\n",
            "Rata-rata mahasiswa 3: 88.00\n"
          ]
        }
      ]
    },
    {
      "cell_type": "markdown",
      "source": [
        "# **Penugasan 1: Akses Elemen List**"
      ],
      "metadata": {
        "id": "ZkWcI_tPFwvd"
      }
    },
    {
      "cell_type": "code",
      "source": [
        "daftar = [\"Natya Sutmoko\", \"Fernanda\", \"Gunsan\", \"Palit\", \"Jira\"]\n",
        "\n",
        "print(daftar[0])\n",
        "print(daftar[-1])\n",
        "print(daftar[1])"
      ],
      "metadata": {
        "colab": {
          "base_uri": "https://localhost:8080/"
        },
        "id": "vwxqA2uHGiqf",
        "outputId": "eebd1d42-427e-4fd7-dd24-effc9c4397d9"
      },
      "execution_count": null,
      "outputs": [
        {
          "output_type": "stream",
          "name": "stdout",
          "text": [
            "Natya Sutmoko\n",
            "Jira\n",
            "Fernanda\n"
          ]
        }
      ]
    },
    {
      "cell_type": "markdown",
      "source": [
        "# **Penugasan 2: Operasi Dasar List**"
      ],
      "metadata": {
        "id": "OdsKuVDwFwx4"
      }
    },
    {
      "cell_type": "code",
      "source": [
        "daftar = [70, 75, 80]\n",
        "daftar[1] = 85\n",
        "daftar.append(90)\n",
        "daftar.remove(70)\n",
        "\n",
        "print(daftar)"
      ],
      "metadata": {
        "colab": {
          "base_uri": "https://localhost:8080/"
        },
        "id": "N40U4E76UwjA",
        "outputId": "46bff647-53a0-4451-874f-756753a9f841"
      },
      "execution_count": null,
      "outputs": [
        {
          "output_type": "stream",
          "name": "stdout",
          "text": [
            "[85, 80, 90]\n"
          ]
        }
      ]
    },
    {
      "cell_type": "markdown",
      "source": [
        "# **Penugasan 3: Slicing List**"
      ],
      "metadata": {
        "id": "1iJRQD8ZWdYE"
      }
    },
    {
      "cell_type": "code",
      "source": [
        "angka = [1, 2, 3, 4, 5, 6, 7 , 8, 9, 10]\n",
        "print(angka[:3])\n",
        "print(angka[-4:])\n",
        "print(angka[1:-1:2])"
      ],
      "metadata": {
        "colab": {
          "base_uri": "https://localhost:8080/"
        },
        "id": "UEGxru2yWjqu",
        "outputId": "be0fadeb-ba93-4ba9-d129-c26507f396c7"
      },
      "execution_count": null,
      "outputs": [
        {
          "output_type": "stream",
          "name": "stdout",
          "text": [
            "[1, 2, 3]\n",
            "[7, 8, 9, 10]\n",
            "[2, 4, 6, 8]\n"
          ]
        }
      ]
    },
    {
      "cell_type": "markdown",
      "source": [
        "# **Penugasan 4: List 2D - Matriks**"
      ],
      "metadata": {
        "id": "FcW16aeVWfG-"
      }
    },
    {
      "cell_type": "code",
      "source": [
        "matriks = [\n",
        "  [1, 2, 3],\n",
        "  [4, 5, 6]\n",
        "]\n",
        "\n",
        "print(matriks[0][1])\n",
        "print(matriks[1][2])\n",
        "print(matriks[0])"
      ],
      "metadata": {
        "colab": {
          "base_uri": "https://localhost:8080/"
        },
        "id": "1DZA4bHGeMp7",
        "outputId": "063012ad-1da7-4574-fbf4-dcadb9c3456e"
      },
      "execution_count": null,
      "outputs": [
        {
          "output_type": "stream",
          "name": "stdout",
          "text": [
            "2\n",
            "6\n",
            "[1, 2, 3]\n"
          ]
        }
      ]
    },
    {
      "cell_type": "markdown",
      "source": [
        "# **Penugasan 5: Operasi Matriks 2D**"
      ],
      "metadata": {
        "id": "e3KRGs-DWfLM"
      }
    },
    {
      "cell_type": "code",
      "source": [
        "matriks = [\n",
        "  [3, 5],\n",
        "  [4, 2]\n",
        "]\n",
        "matriks2 = [\n",
        "    [9, 1],\n",
        "    [-3, -1]\n",
        "]\n",
        "matriks3 = [\n",
        "    [0, 0],\n",
        "    [0, 0]\n",
        "]\n",
        "for i in range(len(matriks)):\n",
        "    for j in range(len(matriks[0])):\n",
        "        matriks3[i][j] = matriks[i][j] + matriks2[i][j]\n",
        "\n",
        "print(matriks3)"
      ],
      "metadata": {
        "colab": {
          "base_uri": "https://localhost:8080/"
        },
        "id": "weQakiCNsEcd",
        "outputId": "03746817-90b0-4a6e-d5ab-439c062e947e"
      },
      "execution_count": null,
      "outputs": [
        {
          "output_type": "stream",
          "name": "stdout",
          "text": [
            "[[12, 6], [1, 1]]\n"
          ]
        }
      ]
    },
    {
      "cell_type": "markdown",
      "source": [
        "# **Penugasan 6: Rata-rata Nilai Mahasiswa**"
      ],
      "metadata": {
        "id": "t-RIX3HAWfkY"
      }
    },
    {
      "cell_type": "code",
      "source": [
        "nilai = [[75, 80, 85], [60, 70, 65], [90, 95, 92]]\n",
        "\n",
        "for i, baris in enumerate(nilai, start=1):\n",
        "  rata = sum(baris) / len(baris)\n",
        "  print(f\"Rata-rata mahasiswa {i}: {rata:.1f}\")"
      ],
      "metadata": {
        "colab": {
          "base_uri": "https://localhost:8080/"
        },
        "id": "r3I2VqTsuOgF",
        "outputId": "bd406546-a731-4f1d-dd6e-ba881dcf3869"
      },
      "execution_count": null,
      "outputs": [
        {
          "output_type": "stream",
          "name": "stdout",
          "text": [
            "Rata-rata mahasiswa 1: 80.0\n",
            "Rata-rata mahasiswa 2: 65.0\n",
            "Rata-rata mahasiswa 3: 92.3\n"
          ]
        }
      ]
    },
    {
      "cell_type": "markdown",
      "source": [
        "# **Penugasan 7: Studi Kasus - Data Toko**"
      ],
      "metadata": {
        "id": "riehVQJPWfng"
      }
    },
    {
      "cell_type": "code",
      "source": [
        "stok = [[\"Buku\", 20], [\"Pulpen\", 35], [\"Penghapus\", 15]]\n",
        "stok_terbanyak = 0\n",
        "\n",
        "for i, barang in enumerate(stok, start=1):\n",
        "  stok_terbanyak = max(stok_terbanyak, barang[1])\n",
        "  print(f\"Barang ke-{i}: {barang[0]} - jumlah stok {barang[1]}\")\n",
        "\n",
        "print(f\"Barang stok dengan stok terbanyak: {stok_terbanyak}\")"
      ],
      "metadata": {
        "colab": {
          "base_uri": "https://localhost:8080/"
        },
        "id": "YJoHDB2XuqAQ",
        "outputId": "6592348c-cc35-47ef-9d86-f05def6d0444"
      },
      "execution_count": 53,
      "outputs": [
        {
          "output_type": "stream",
          "name": "stdout",
          "text": [
            "Barang ke-1: Buku - jumlah stok 20\n",
            "Barang ke-2: Pulpen - jumlah stok 35\n",
            "Barang ke-3: Penghapus - jumlah stok 15\n",
            "Barang stok dengan stok terbanyak: 35\n"
          ]
        }
      ]
    }
  ]
}