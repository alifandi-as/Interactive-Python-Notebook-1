{
  "nbformat": 4,
  "nbformat_minor": 0,
  "metadata": {
    "colab": {
      "provenance": [],
      "toc_visible": true,
      "authorship_tag": "ABX9TyOvw1Z3et/24FURJCAbUvbE",
      "include_colab_link": true
    },
    "kernelspec": {
      "name": "python3",
      "display_name": "Python 3"
    },
    "language_info": {
      "name": "python"
    }
  },
  "cells": [
    {
      "cell_type": "markdown",
      "metadata": {
        "id": "view-in-github",
        "colab_type": "text"
      },
      "source": [
        "<a href=\"https://colab.research.google.com/github/alifandi-as/Interactive-Python-Notebook-1/blob/main/Alifandi_Jobsheet_02.ipynb\" target=\"_parent\"><img src=\"https://colab.research.google.com/assets/colab-badge.svg\" alt=\"Open In Colab\"/></a>"
      ]
    },
    {
      "cell_type": "markdown",
      "source": [
        "# **Praktikum 01 - Pengenalan Variabel dan Tipe Data**"
      ],
      "metadata": {
        "id": "OI28WRYEfdtj"
      }
    },
    {
      "cell_type": "code",
      "execution_count": 2,
      "metadata": {
        "id": "xn-jeQxTcymR",
        "colab": {
          "base_uri": "https://localhost:8080/"
        },
        "outputId": "48530e62-5999-4d66-b869-ead3163d1b6b"
      },
      "outputs": [
        {
          "output_type": "stream",
          "name": "stdout",
          "text": [
            "Umur: 20 → <class 'int'>\n",
            "Tinggi: 170.5 → <class 'float'>\n",
            "Nama: Andi → <class 'str'>\n",
            "Status Mahasiswa: True → <class 'bool'>\n",
            "Nilai: [80, 85, 90] → <class 'list'>\n",
            "Koordinat: (10, 20) → <class 'tuple'>\n",
            "Data Mahasiswa: {'nama': 'Andi', 'umur': 20, 'prodi': 'TRK'} → <class 'dict'>\n"
          ]
        }
      ],
      "source": [
        "# Integer\n",
        "umur = 20\n",
        "print(\"Umur:\", umur, \"→\", type(umur))\n",
        "\n",
        "# Float\n",
        "tinggi = 170.5\n",
        "print(\"Tinggi:\", tinggi, \"→\", type(tinggi))\n",
        "\n",
        "# String\n",
        "nama = \"Andi\"\n",
        "print(\"Nama:\", nama, \"→\", type(nama))\n",
        "\n",
        "# Boolean\n",
        "is_mahasiswa = True\n",
        "print(\"Status Mahasiswa:\", is_mahasiswa, \"→\", type(is_mahasiswa))\n",
        "# List\n",
        "nilai = [80, 85, 90]\n",
        "print(\"Nilai:\", nilai, \"→\", type(nilai))\n",
        "\n",
        "# Tuple\n",
        "koordinat = (10, 20)\n",
        "print(\"Koordinat:\", koordinat, \"→\", type(koordinat))\n",
        "\n",
        "# Dictionary\n",
        "mahasiswa = {\"nama\": \"Andi\", \"umur\": 20, \"prodi\": \"TRK\"}\n",
        "print(\"Data Mahasiswa:\", mahasiswa, \"→\", type(mahasiswa))\n",
        "\n",
        "# Set\n",
        "hobi = {\"membaca\", \"olahraga\", \"musik\"}"
      ]
    },
    {
      "cell_type": "markdown",
      "source": [
        "# **Praktikum 02 - Input dan Output Dasar**"
      ],
      "metadata": {
        "id": "qITjsf67g54C"
      }
    },
    {
      "cell_type": "code",
      "source": [
        "# INput string\n",
        "nama = input(\"Masukkan nama Anda: \")\n",
        "\n",
        "# Input integer\n",
        "umur = int(input(\"Masukkan umur Anda: \"))\n",
        "\n",
        "# Input float\n",
        "tinggi = float(input(\"Masukkan tinggi badan cm): \"))\n",
        "\n",
        "# Output standar\n",
        "print(\"Halo,\", nama, \"umur Anda:\", umur, \"tahun, tinggi:\", tinggi, \"cm\")\n",
        "\n",
        "# Output dengan format()\n",
        "print(\"Halo {0}, umur Anda {1} tahun, tinggi {2} cm\".format(nama, umur, tinggi))\n",
        "\n",
        "# Output dengan f-string\n",
        "print(f\"Halo {nama}, umur Anda {umur} tahun, tinggi {tinggi} cm\")"
      ],
      "metadata": {
        "colab": {
          "base_uri": "https://localhost:8080/"
        },
        "id": "1Q0dpLEGhBB_",
        "outputId": "f252fa7a-6d28-45a2-c978-905103f99deb"
      },
      "execution_count": 4,
      "outputs": [
        {
          "output_type": "stream",
          "name": "stdout",
          "text": [
            "Masukkan nama Anda: Alif\n",
            "Masukkan umur Anda: 17\n",
            "Masukkan tinggi badan cm): 173\n",
            "Halo, Alif umur Anda: 17 tahun, tinggi: 173.0 cm\n",
            "Halo Alif, umur Anda 17 tahun, tinggi 173.0 cm\n",
            "Halo Alif, umur Anda 17 tahun, tinggi 173.0 cm\n"
          ]
        }
      ]
    },
    {
      "cell_type": "markdown",
      "source": [
        "# **Praktikum 03 - Operator Aritmatika**"
      ],
      "metadata": {
        "id": "xVO8rApziiFX"
      }
    },
    {
      "cell_type": "code",
      "source": [
        "a = 15\n",
        "b = 4\n",
        "\n",
        "print(\"a + b =\", a + b)\n",
        "print(\"a - b =\", a - b)\n",
        "print(\"a * b =\", a * b)\n",
        "print(\"a / b =\", a / b)\n",
        "print(\"a // b =\", a // b)\n",
        "print(\"a % b =\", a % b)\n",
        "print(\"a ** b =\", a ** b)"
      ],
      "metadata": {
        "colab": {
          "base_uri": "https://localhost:8080/"
        },
        "id": "-pG3V0Pyium8",
        "outputId": "bd1ce98e-71ca-4ecf-9fc5-f97eb7c50fd3"
      },
      "execution_count": 5,
      "outputs": [
        {
          "output_type": "stream",
          "name": "stdout",
          "text": [
            "a + b = 19\n",
            "a - b = 11\n",
            "a * b = 60\n",
            "a / b = 3.75\n",
            "a // b = 3\n",
            "a % b = 3\n",
            "a ** b = 50625\n"
          ]
        }
      ]
    },
    {
      "cell_type": "markdown",
      "source": [
        "# **Praktikum 04 - Operator Relasional**"
      ],
      "metadata": {
        "id": "O5UUF5w4jjbT"
      }
    },
    {
      "cell_type": "code",
      "source": [
        "x = 10\n",
        "y = 20\n",
        "\n",
        "print(\"x == y :\", x == y)\n",
        "print(\"x != y :\", x != y)\n",
        "print(\"x < y :\", x < y)\n",
        "print(\"x > y :\", x > y)\n",
        "print(\"x <= y :\", x <= y)\n",
        "print(\"x >= y :\", x >= y)"
      ],
      "metadata": {
        "colab": {
          "base_uri": "https://localhost:8080/"
        },
        "id": "0FINXsb8jxlt",
        "outputId": "820e0b84-b66d-486f-d1f0-cd4efa21d6e2"
      },
      "execution_count": 6,
      "outputs": [
        {
          "output_type": "stream",
          "name": "stdout",
          "text": [
            "x == y : False\n",
            "x != y : True\n",
            "x < y : True\n",
            "x > y : False\n",
            "x <= y : True\n",
            "x >= y : False\n"
          ]
        }
      ]
    },
    {
      "cell_type": "markdown",
      "source": [
        "# **Praktikum 05 - Operator Logika dengan Studi Kasus Nyata**"
      ],
      "metadata": {
        "id": "Q4MtmDxZka7_"
      }
    },
    {
      "cell_type": "code",
      "source": [
        "# Operator logika dasar\n",
        "a = True\n",
        "b = False\n",
        "\n",
        "print(\"a and b =\", a and b)\n",
        "print(\"a or b =\", a or b)\n",
        "print(\"not a =\", not a)\n",
        "\n",
        "# Studi kasus nyata: kelulusan\n",
        "nilai = int(input(\"Masukkan nilai ujian: \"))\n",
        "hadir = int(input(\"Masukkan jumlah kehadiran: \"))\n",
        "\n",
        "lulus_nilai = nilai >= 60\n",
        "lulus_hadir = hadir >= 12 # dari 16 pertemuan\n",
        "\n",
        "if lulus_nilai and lulus_hadir:\n",
        "  print(\"Status: LULUS\")\n",
        "else:\n",
        "  print(\"Status: TIDAK LULUS\")"
      ],
      "metadata": {
        "colab": {
          "base_uri": "https://localhost:8080/"
        },
        "id": "FSYH2iyRkeW0",
        "outputId": "1a382c68-c3c5-4555-ef5c-eb78b414c8f5"
      },
      "execution_count": 15,
      "outputs": [
        {
          "output_type": "stream",
          "name": "stdout",
          "text": [
            "a and b = False\n",
            "a or b = True\n",
            "not a = False\n",
            "Masukkan nilai ujian: 85\n",
            "Masukkan jumlah kehadiran: 14\n",
            "Status: LULUS\n"
          ]
        }
      ]
    },
    {
      "cell_type": "markdown",
      "source": [
        "# **Praktikum 06 - Program Kasir Sederhana**"
      ],
      "metadata": {
        "id": "cfgyn43RlDjP"
      }
    },
    {
      "cell_type": "code",
      "source": [
        "barang = input(\"Masukkan nama barang: \")\n",
        "harga = float(input(\"Masukkan harga barang: \"))\n",
        "jumlah = int(input(\"Masukkan jumlah barang: \"))\n",
        "\n",
        "total = harga * jumlah\n",
        "\n",
        "# Aturan diskon\n",
        "if total >= 500000:\n",
        "    diskon = 0.2\n",
        "elif total >= 250000:\n",
        "    diskon = 0.1\n",
        "else:\n",
        "    diskon = 0\n",
        "\n",
        "potongan = total * diskon\n",
        "bayar = total - potongan\n",
        "\n",
        "print(\"\\n===== Struk Belanja =====\")\n",
        "print(f\"Barang : {barang}\")\n",
        "print(f\"Jumlah : {jumlah}\")\n",
        "print(f\"Total : Rp {total}\")\n",
        "print(f\"Diskon : {diskon * 100}%\")\n",
        "print(f\"Bayar : Rp {bayar}\")"
      ],
      "metadata": {
        "colab": {
          "base_uri": "https://localhost:8080/"
        },
        "id": "erJmvWfAlGuY",
        "outputId": "32cc413c-67ca-4f00-b47d-c0aba91a7893"
      },
      "execution_count": 9,
      "outputs": [
        {
          "output_type": "stream",
          "name": "stdout",
          "text": [
            "Masukkan nama barang: Sunlight\n",
            "Masukkan harga barang: 8500\n",
            "Masukkan jumlah barang: 500\n",
            "\n",
            "===== Struk Belanja =====\n",
            "Barang : Sunlight\n",
            "Jumlah : 500\n",
            "Total : Rp 4250000.0\n",
            "Diskon : 20.0%\n",
            "Bayar : Rp 3400000.0\n"
          ]
        }
      ]
    },
    {
      "cell_type": "markdown",
      "source": [
        "# **Penugasan 1: Identitas Mahasiswa**"
      ],
      "metadata": {
        "id": "QiSjL36slXm3"
      }
    },
    {
      "cell_type": "code",
      "source": [
        "nama = input(\"Masukkan nama Anda: \")\n",
        "umur = int(input(\"Masukkan umur Anda: \"))\n",
        "tinggi  = int(input(\"Masukkan tinggi Anda: \"))\n",
        "aktif = bool(input(\"Masukkan status aktif Anda: \"))\n",
        "\n",
        "print(f\"Nama: {nama} \\nUmur: {umur} \\nTinggi: {tinggi} \\nAktif: {aktif}\")\n"
      ],
      "metadata": {
        "colab": {
          "base_uri": "https://localhost:8080/"
        },
        "id": "PtAxnGeglc9U",
        "outputId": "c1d5c98d-5aea-4013-e500-e828add3262c"
      },
      "execution_count": 14,
      "outputs": [
        {
          "output_type": "stream",
          "name": "stdout",
          "text": [
            "Masukkan nama Anda: Alif\n",
            "Masukkan umur Anda: 18\n",
            "Masukkan tinggi Anda: 173\n",
            "Masukkan status aktif Anda: true\n",
            "Nama: Alif \n",
            "Umur: 18 \n",
            "Tinggi: 173 \n",
            "Aktif: True\n"
          ]
        }
      ]
    },
    {
      "cell_type": "markdown",
      "source": [
        "# **Penugasan 2: Operasi Aritmatika**"
      ],
      "metadata": {
        "id": "euue5yF1opCL"
      }
    },
    {
      "cell_type": "code",
      "source": [
        "num = int(input(\"Masukkan bilangan bulat pertama: \"))\n",
        "num2 = int(input(\"Masukkan bilangan bulat kedua: \"))\n",
        "\n",
        "print(f\"Hasil penjumlahan: {num + num2}\")\n",
        "print(f\"Hasil pengurangan: {num - num2}\")\n",
        "print(f\"Hasil perkalian: {num * num2}\")\n",
        "print(f\"Hasil pembagian: {num / num2}\")\n",
        "print(f\"Hasil sisa bagi: {num % num2}\")\n",
        "print(f\"Hasil perpangkatan: {num ** num2}\")\n"
      ],
      "metadata": {
        "colab": {
          "base_uri": "https://localhost:8080/"
        },
        "id": "FQiiKeHWotRS",
        "outputId": "290dcedb-7a07-4439-cc92-9d686b39e478"
      },
      "execution_count": 18,
      "outputs": [
        {
          "output_type": "stream",
          "name": "stdout",
          "text": [
            "Masukkan bilangan bulat pertama: 15\n",
            "Masukkan bilangan bulat kedua: 4\n",
            "Hasil penjumlahan: 19\n",
            "Hasil pengurangan: 11\n",
            "Hasil perkalian: 60\n",
            "Hasil pembagian: 3.75\n",
            "Hasil sisa bagi: 3\n",
            "Hasil perpangkatan: 50625\n"
          ]
        }
      ]
    },
    {
      "cell_type": "markdown",
      "source": [
        "# **Penugasan 3: Konversi Nilai**"
      ],
      "metadata": {
        "id": "j9tVW46_qKe2"
      }
    },
    {
      "cell_type": "code",
      "source": [
        "dec_num = float(input(\"Masukkan nilai desimal: \"))\n",
        "\n",
        "print(f\"Nilai integer: {int(dec_num)}\")\n",
        "print(f\"Nilai string: {str(dec_num)}\")\n",
        "print(f\"Nilai pembulatan 2 digit: {round(dec_num, 2)}\")"
      ],
      "metadata": {
        "colab": {
          "base_uri": "https://localhost:8080/"
        },
        "id": "RXuk3eH0qNsd",
        "outputId": "ed23cdde-362d-48b4-d0aa-4b62a3c1c920"
      },
      "execution_count": 19,
      "outputs": [
        {
          "output_type": "stream",
          "name": "stdout",
          "text": [
            "Masukkan nilai desimal: 14.257840917\n",
            "Nilai integer: 14\n",
            "Nilai string: 14.257840917\n",
            "Nilai pembulatan 2 digit: 14.26\n"
          ]
        }
      ]
    },
    {
      "cell_type": "markdown",
      "source": [
        "# **Penugasan 4: Operator Relasional**"
      ],
      "metadata": {
        "id": "qeQbtuOGqr_3"
      }
    },
    {
      "cell_type": "code",
      "source": [
        "num = float(input(\"Masukkan nilai pertama: \"))\n",
        "num2 = float(input((\"Masukkan nilai kedua: \")))\n",
        "\n",
        "print(f\"Hasil bilangan pertama sama dengan bilangan kedua: {num == num2}\")\n",
        "print(f\"Hasil bilangan pertama tidak sama dengan bilangan kedua: {num != num2}\")\n",
        "print(f\"Hasil bilangan pertama lebih besar dari bilangan kedua: {num > num2}\")\n",
        "print(f\"Hasil bilangan pertama lebih kecil dari bilangan kedua: {num < num2}\")\n",
        "print(f\"Hasil bilangan pertama lebih besar/sama dengan bilangan kedua: {num >= num2}\")\n",
        "print(f\"Hasil bilangan pertama lebih kecil/sama dengan bilangan kedua: {num <= num2}\")"
      ],
      "metadata": {
        "colab": {
          "base_uri": "https://localhost:8080/"
        },
        "id": "IbUHjbzzqvtx",
        "outputId": "5880650d-2f17-4224-a2c1-c84f17ad50f8"
      },
      "execution_count": 22,
      "outputs": [
        {
          "output_type": "stream",
          "name": "stdout",
          "text": [
            "Masukkan nilai pertama: 7\n",
            "Masukkan nilai kedua: 24\n",
            "Hasil bilangan pertama sama dengan bilangan kedua: False\n",
            "Hasil bilangan pertama tidak sama dengan bilangan kedua: True\n",
            "Hasil bilangan pertama lebih besar dari bilangan kedua: False\n",
            "Hasil bilangan pertama lebih kecil dari bilangan kedua: True\n",
            "Hasil bilangan pertama lebih besar/sama dengan bilangan kedua: False\n",
            "Hasil bilangan pertama lebih kecil/sama dengan bilangan kedua: True\n"
          ]
        }
      ]
    }
  ]
}