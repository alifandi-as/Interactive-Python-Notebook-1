{
  "nbformat": 4,
  "nbformat_minor": 0,
  "metadata": {
    "colab": {
      "provenance": [],
      "authorship_tag": "ABX9TyO/rlLUwhJ3Tema+l25t3ue",
      "include_colab_link": true
    },
    "kernelspec": {
      "name": "python3",
      "display_name": "Python 3"
    },
    "language_info": {
      "name": "python"
    }
  },
  "cells": [
    {
      "cell_type": "markdown",
      "metadata": {
        "id": "view-in-github",
        "colab_type": "text"
      },
      "source": [
        "<a href=\"https://colab.research.google.com/github/alifandi-as/Interactive-Python-Notebook-1/blob/main/Alifandi_Jobsheet_01.ipynb\" target=\"_parent\"><img src=\"https://colab.research.google.com/assets/colab-badge.svg\" alt=\"Open In Colab\"/></a>"
      ]
    },
    {
      "cell_type": "markdown",
      "source": [
        "# **Praktikum 01. Menghitung Luas Persegi Panjang**"
      ],
      "metadata": {
        "id": "y0ihCXN8SjY1"
      }
    },
    {
      "cell_type": "code",
      "execution_count": null,
      "metadata": {
        "colab": {
          "base_uri": "https://localhost:8080/"
        },
        "id": "1pUj6ULuRjZS",
        "outputId": "01c07f8e-2d1d-4695-9ba8-efdd60af6df8"
      },
      "outputs": [
        {
          "output_type": "stream",
          "name": "stdout",
          "text": [
            "Masukkan panjang: 16\n",
            "Masukkan lebar: 25\n",
            "Luas persegi panjang =  400\n"
          ]
        }
      ],
      "source": [
        "p = int(input(\"Masukkan panjang: \"))\n",
        "l = int(input(\"Masukkan lebar: \"))\n",
        "luas = p * l\n",
        "print(\"Luas persegi panjang = \", luas)"
      ]
    },
    {
      "cell_type": "markdown",
      "source": [
        "# **Praktikum 02. Menghitung Luas Segitiga**"
      ],
      "metadata": {
        "id": "lTC--D8OS1v_"
      }
    },
    {
      "cell_type": "code",
      "source": [
        "import math\n",
        "\n",
        "a = float(input(\"Masukkan sisi a: \"))\n",
        "b = float(input(\"Masukkan sisi b: \"))\n",
        "c = float(input(\"Masukkan sisi c: \"))\n",
        "\n",
        "s = (a + b + c) / 2\n",
        "luas = math.sqrt(s * (s - a) * (s - b) * (s - c))\n",
        "print(\"Luas segitiga = \", luas)"
      ],
      "metadata": {
        "colab": {
          "base_uri": "https://localhost:8080/"
        },
        "id": "tOpQ4kpuSubQ",
        "outputId": "0744b8d6-e5bf-4331-d043-ab87c97af8b8"
      },
      "execution_count": null,
      "outputs": [
        {
          "output_type": "stream",
          "name": "stdout",
          "text": [
            "Masukkan sisi a: 3\n",
            "Masukkan sisi b: 4\n",
            "Masukkan sisi c: 5\n",
            "Luas segitiga =  6.0\n"
          ]
        }
      ]
    },
    {
      "cell_type": "code",
      "source": [],
      "metadata": {
        "id": "eE6D2-jgTE_L"
      },
      "execution_count": null,
      "outputs": []
    },
    {
      "cell_type": "markdown",
      "source": [
        "# **Praktikum 03. Konversi Suhu Celsius ke Fahrenheit**"
      ],
      "metadata": {
        "id": "Qlvc5nljUJOZ"
      }
    },
    {
      "cell_type": "code",
      "source": [
        "c = float(input(\"Masukkan suhu (°C): \"))\n",
        "f = (c * 9/5) + 32\n",
        "print(\"Hasil konversi = \", f, \"°F\")"
      ],
      "metadata": {
        "colab": {
          "base_uri": "https://localhost:8080/"
        },
        "id": "oBH6dPxoUOH3",
        "outputId": "1e9e1129-c2fb-4310-d945-6bd3fbc25f8c"
      },
      "execution_count": null,
      "outputs": [
        {
          "output_type": "stream",
          "name": "stdout",
          "text": [
            "Masukkan suhu (°C): 32\n",
            "Hasil konversi =  89.6 °F\n"
          ]
        }
      ]
    },
    {
      "cell_type": "markdown",
      "source": [
        "# **Praktikum 04. Menghitung Umur Berdasarkan Tahun Lahir**"
      ],
      "metadata": {
        "id": "0T1jobTPUqbl"
      }
    },
    {
      "cell_type": "code",
      "source": [
        "tahun_lahir = int(input(\"Masukkan tahun lahir: \"))\n",
        "tahun_sekarang = 2025\n",
        "umur = tahun_sekarang - tahun_lahir\n",
        "print(\"Umur anda = \", umur, \"tahun\")"
      ],
      "metadata": {
        "colab": {
          "base_uri": "https://localhost:8080/"
        },
        "id": "qNrC7baZUmGS",
        "outputId": "f312b612-ee59-4d5a-a5d0-bf4ace982dd8"
      },
      "execution_count": null,
      "outputs": [
        {
          "output_type": "stream",
          "name": "stdout",
          "text": [
            "Masukkan tahun lahir: 2006\n",
            "Umur anda =  19 tahun\n"
          ]
        }
      ]
    },
    {
      "cell_type": "markdown",
      "source": [
        "# **Praktikum 05. Menghitung Luas Lingkaran**"
      ],
      "metadata": {
        "id": "xeD--pq0VFlg"
      }
    },
    {
      "cell_type": "code",
      "source": [
        "import math\n",
        "r = float(input(\"Masukkan jari-jari lingkaran: \"))\n",
        "luas = math.pi * r * r\n",
        "print(\"Luas lingkaran =\", luas)"
      ],
      "metadata": {
        "colab": {
          "base_uri": "https://localhost:8080/"
        },
        "id": "AyrQsWbTVJLG",
        "outputId": "050a5738-724f-4bc6-9571-838a52373a27"
      },
      "execution_count": null,
      "outputs": [
        {
          "output_type": "stream",
          "name": "stdout",
          "text": [
            "Masukkan jari-jari lingkaran: 14\n",
            "Luas lingkaran = 615.7521601035994\n"
          ]
        }
      ]
    },
    {
      "cell_type": "markdown",
      "source": [
        "# **Praktikum 06. Menjumlahkan Tiga Bilangan**"
      ],
      "metadata": {
        "id": "qDjabCS8Vgg4"
      }
    },
    {
      "cell_type": "code",
      "source": [
        "a = int(input(\"Masukkan bilangan pertama: \"))\n",
        "b = int(input(\"Masukkan bilangan kedua: \"))\n",
        "c = int(input(\"Masukkan bilangan ketiga: 1\"))\n",
        "jumlah = a + b + c\n",
        "print(\"Jumlah = \", jumlah)"
      ],
      "metadata": {
        "colab": {
          "base_uri": "https://localhost:8080/"
        },
        "id": "Je2z6ZWRVdVg",
        "outputId": "9265e113-d616-4c98-c25a-cda0035b7ad4"
      },
      "execution_count": null,
      "outputs": [
        {
          "output_type": "stream",
          "name": "stdout",
          "text": [
            "Masukkan bilangan pertama: 17\n",
            "Masukkan bilangan kedua: 15\n",
            "Masukkan bilangan ketiga: 60\n",
            "Jumlah =  92\n"
          ]
        }
      ]
    },
    {
      "cell_type": "markdown",
      "source": [
        "# **Penugasan 1: Menghitung Volume Balok**"
      ],
      "metadata": {
        "id": "p_FQMpHTXZTt"
      }
    },
    {
      "cell_type": "code",
      "source": [
        "p = int(input(\"Masukkan panjang: \"))\n",
        "l = int(input(\"Masukkan lebar: \"))\n",
        "t = int(input(\"Masukkan tinggi: \"))\n",
        "v = p * l * t\n",
        "print(\"Volume batok: \", v)"
      ],
      "metadata": {
        "colab": {
          "base_uri": "https://localhost:8080/"
        },
        "id": "eDztBG_WXfh8",
        "outputId": "a8896723-dab7-44d2-cbc1-7d6e69e021c9"
      },
      "execution_count": null,
      "outputs": [
        {
          "output_type": "stream",
          "name": "stdout",
          "text": [
            "Masukkan panjang: 10\n",
            "Masukkan lebar: 9\n",
            "Masukkan tinggi: 8\n",
            "Volume batok:  720\n"
          ]
        }
      ]
    },
    {
      "cell_type": "markdown",
      "source": [
        "# **Penugasan 2: Konversi Watku (detik ke jam:menit:detik)**"
      ],
      "metadata": {
        "id": "-JaozS4mX1_W"
      }
    },
    {
      "cell_type": "code",
      "source": [
        "total_dtk = int(input(\"Masukkan total detik: \"))\n",
        "detik = total_dtk % 60\n",
        "menit = (total_dtk // 60) % 60\n",
        "jam = (total_dtk // 3600)\n",
        "print(f\"Konversi waktu: {jam}:{str(menit).rjust(2, \"0\")}:{str(detik).rjust(2, \"0\")}\")"
      ],
      "metadata": {
        "colab": {
          "base_uri": "https://localhost:8080/"
        },
        "id": "RuKN9-csX1lY",
        "outputId": "b9cf8975-d8b4-4dfd-c204-e4a299928094"
      },
      "execution_count": null,
      "outputs": [
        {
          "output_type": "stream",
          "name": "stdout",
          "text": [
            "Masukkan total detik: 3685\n",
            "Konversi waktu: 1:01:25\n"
          ]
        }
      ]
    },
    {
      "cell_type": "markdown",
      "source": [
        "# **Penugasan 3: Rata-rata Nilai Tiga Mata Kuliah**"
      ],
      "metadata": {
        "id": "jpQVt4gXjmjN"
      }
    },
    {
      "cell_type": "code",
      "source": [
        "nilai1 = int(input(\"Masukkan nilai mata kuliah pertama: \"))\n",
        "nilai2 = int(input(\"Masukkan nilai mata kuliah pertama: \"))\n",
        "nilai3 = int(input(\"Masukkan nilai mata kuliah pertama: \"))\n",
        "\n",
        "rata_rata = (nilai1 + nilai2 + nilai3) / 3\n",
        "if (rata_rata >= 60):\n",
        "  print(\"Lulus\")\n",
        "else:\n",
        "  print(\"Tidak Lulus\")"
      ],
      "metadata": {
        "colab": {
          "base_uri": "https://localhost:8080/"
        },
        "id": "OZRfVEvejrtY",
        "outputId": "e6085977-2f88-455c-d31c-b8103fab0b6d"
      },
      "execution_count": null,
      "outputs": [
        {
          "output_type": "stream",
          "name": "stdout",
          "text": [
            "Masukkan nilai mata kuliah pertama: 85\n",
            "Masukkan nilai mata kuliah pertama: 40\n",
            "Masukkan nilai mata kuliah pertama: 75\n",
            "Lulus\n"
          ]
        }
      ]
    },
    {
      "cell_type": "markdown",
      "source": [
        "# **Penugasan 4. Menghitung Diskon Belanja**"
      ],
      "metadata": {
        "id": "twjCPY8FkRZ9"
      }
    },
    {
      "cell_type": "code",
      "source": [
        "belanja = int(input(\"Masukkan total belanja: \"))\n",
        "if (belanja >= 500.000):\n",
        "  print(f\"Total setelah diskon: {belanja * 0.8}\")\n",
        "elif (belanja >= 250.000):\n",
        "  print(f\"Total setelah diskon: {belanja * 0.9}\")\n",
        "else:\n",
        "  print(f\"Total setelah diskon: {belanja}\")"
      ],
      "metadata": {
        "colab": {
          "base_uri": "https://localhost:8080/"
        },
        "id": "XoWvYMkbkW9K",
        "outputId": "02b046ff-e405-48b3-f362-3d37b274c145"
      },
      "execution_count": null,
      "outputs": [
        {
          "output_type": "stream",
          "name": "stdout",
          "text": [
            "Masukkan total belanja: 650000\n",
            "Total setelah diskon: 520000.0\n"
          ]
        }
      ]
    }
  ]
}