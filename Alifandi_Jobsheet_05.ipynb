{
  "nbformat": 4,
  "nbformat_minor": 0,
  "metadata": {
    "colab": {
      "provenance": [],
      "authorship_tag": "ABX9TyNBuyHhJ/+aaRVouQVqkeL/",
      "include_colab_link": true
    },
    "kernelspec": {
      "name": "python3",
      "display_name": "Python 3"
    },
    "language_info": {
      "name": "python"
    }
  },
  "cells": [
    {
      "cell_type": "markdown",
      "metadata": {
        "id": "view-in-github",
        "colab_type": "text"
      },
      "source": [
        "<a href=\"https://colab.research.google.com/github/alifandi-as/Interactive-Python-Notebook-1/blob/main/Alifandi_Jobsheet_05.ipynb\" target=\"_parent\"><img src=\"https://colab.research.google.com/assets/colab-badge.svg\" alt=\"Open In Colab\"/></a>"
      ]
    },
    {
      "cell_type": "markdown",
      "source": [
        "# **Praktikum 01 - Indexing dan Slicing**"
      ],
      "metadata": {
        "id": "yA9WdBm5HVVw"
      }
    },
    {
      "cell_type": "code",
      "source": [
        "teks = \"Politeknik Negeri Semarang\"\n",
        "print(teks[0]) # 'P'\n",
        "print(teks[0:11]) # 'Politeknik'\n",
        "print(teks[-8:]) # 'Semarang'"
      ],
      "metadata": {
        "colab": {
          "base_uri": "https://localhost:8080/"
        },
        "id": "r63rV5rsHcU5",
        "outputId": "23b96a01-d1c2-4f00-d76c-b2049aee2b19"
      },
      "execution_count": null,
      "outputs": [
        {
          "output_type": "stream",
          "name": "stdout",
          "text": [
            "P\n",
            "Politeknik \n",
            "Semarang\n"
          ]
        }
      ]
    },
    {
      "cell_type": "markdown",
      "source": [
        "# **Praktikum 02 - Method Bawaan String**"
      ],
      "metadata": {
        "id": "qbNhlKqgLBy2"
      }
    },
    {
      "cell_type": "code",
      "source": [
        "teks = \" Politeknik Negeri Semarang \"\n",
        "print(teks.upper())\n",
        "print(teks.lower())\n",
        "print(teks.title())\n",
        "print(teks.strip())\n",
        "print(teks.split(\" \"))\n",
        "print(\"-\".join([\"Politeknik\",\"Negeri\",\"Semarang\"]))"
      ],
      "metadata": {
        "colab": {
          "base_uri": "https://localhost:8080/"
        },
        "id": "sCQHr0fOLLOB",
        "outputId": "95f1d54f-4a61-42e3-e9f9-750ccc79ef1e"
      },
      "execution_count": null,
      "outputs": [
        {
          "output_type": "stream",
          "name": "stdout",
          "text": [
            " POLITEKNIK NEGERI SEMARANG \n",
            " politeknik negeri semarang \n",
            " Politeknik Negeri Semarang \n",
            "Politeknik Negeri Semarang\n",
            "['', 'Politeknik', 'Negeri', 'Semarang', '']\n",
            "Politeknik-Negeri-Semarang\n"
          ]
        }
      ]
    },
    {
      "cell_type": "markdown",
      "source": [
        "# **Praktikum 03.1 - Validasi Password**"
      ],
      "metadata": {
        "id": "95ex0bE5LOyC"
      }
    },
    {
      "cell_type": "code",
      "source": [
        "password = input(\"Masukkan password: \")\n",
        "\n",
        "if len(password) >= 8:\n",
        "  print(\"Password valid\")\n",
        "else:\n",
        "  print(\"Password terlalu pendek\")"
      ],
      "metadata": {
        "colab": {
          "base_uri": "https://localhost:8080/"
        },
        "id": "dbUDWxxHLwWl",
        "outputId": "f968a1f6-a30d-4bf4-939a-4e22150a483b"
      },
      "execution_count": null,
      "outputs": [
        {
          "output_type": "stream",
          "name": "stdout",
          "text": [
            "Masukkan password: python123\n",
            "Password valid\n"
          ]
        }
      ]
    },
    {
      "cell_type": "markdown",
      "source": [
        "# **Praktikum 03.2 - Validasi Password**"
      ],
      "metadata": {
        "id": "Mp46OtyYMAI5"
      }
    },
    {
      "cell_type": "code",
      "source": [
        "password = input(\"Masukkan password: \")\n",
        "\n",
        "if len(password) >= 8:\n",
        "  print(\"Password valid\")\n",
        "else:\n",
        "  print(\"Password terlalu pendek\")"
      ],
      "metadata": {
        "colab": {
          "base_uri": "https://localhost:8080/"
        },
        "id": "6RHsoH56MLfY",
        "outputId": "750edb33-a505-4073-8b7e-384b14bd7251"
      },
      "execution_count": null,
      "outputs": [
        {
          "output_type": "stream",
          "name": "stdout",
          "text": [
            "Masukkan password: abc\n",
            "Password terlalu pendek\n"
          ]
        }
      ]
    },
    {
      "cell_type": "markdown",
      "source": [
        "# **Praktikum 04 - String Formatting dengan F-String**"
      ],
      "metadata": {
        "id": "FciKgJyEMXex"
      }
    },
    {
      "cell_type": "code",
      "source": [
        "nama = input(\"Masukkan nama: \")\n",
        "umur = int(input(\"Masukkan umur: \"))\n",
        "\n",
        "print(f\"Nama saya {nama}, umur {umur} tahun.\")"
      ],
      "metadata": {
        "colab": {
          "base_uri": "https://localhost:8080/"
        },
        "id": "6sHqV95NMbJa",
        "outputId": "f5b9d20f-544f-4705-baac-071e0be727f5"
      },
      "execution_count": null,
      "outputs": [
        {
          "output_type": "stream",
          "name": "stdout",
          "text": [
            "Masukkan nama: Budi\n",
            "Masukkan umur: 21\n",
            "Nama saya Budi, umur 21 tahun.\n"
          ]
        }
      ]
    },
    {
      "cell_type": "markdown",
      "source": [
        "# **Praktikum 05 - Operasi dalam F-String**"
      ],
      "metadata": {
        "id": "_Xs6oe-uMlBr"
      }
    },
    {
      "cell_type": "code",
      "source": [
        "a = int(input(\"Masukkan nilai a: \"))\n",
        "b = int(input(\"Masukkan nilai b: \"))\n",
        "\n",
        "print(f\"Hasil penjumlahan {a}+{b} = {a+b}\")\n",
        "print(f\"Hasil pembagian {a}/{b} = {a/b:.2f}\")"
      ],
      "metadata": {
        "colab": {
          "base_uri": "https://localhost:8080/"
        },
        "id": "8CP3GH7XMn-l",
        "outputId": "71a692f0-b535-4c2c-ccac-ae4a9b85ad6f"
      },
      "execution_count": null,
      "outputs": [
        {
          "output_type": "stream",
          "name": "stdout",
          "text": [
            "Masukkan nilai a: 10\n",
            "Masukkan nilai b: 3\n",
            "Hasil penjumlahan 10+3 = 13\n",
            "Hasil pembagian 10/3 = 3.33\n"
          ]
        }
      ]
    },
    {
      "cell_type": "markdown",
      "source": [
        "# **Praktikum 06 - Casting String**"
      ],
      "metadata": {
        "id": "Ib0FD5WkMx6h"
      }
    },
    {
      "cell_type": "code",
      "source": [
        "angka = 123\n",
        "teks = \"456\"\n",
        "\n",
        "print(\"Nilai: \" + str(angka))\n",
        "print(int(teks) + 10)"
      ],
      "metadata": {
        "colab": {
          "base_uri": "https://localhost:8080/"
        },
        "id": "ZhsJk7bEM1fD",
        "outputId": "bd50214c-a83e-4705-c1a5-501994f17a21"
      },
      "execution_count": null,
      "outputs": [
        {
          "output_type": "stream",
          "name": "stdout",
          "text": [
            "Nilai: 123\n",
            "466\n"
          ]
        }
      ]
    },
    {
      "cell_type": "markdown",
      "source": [
        "# **Praktikum 07 - Studi Kasus Nyata: Analisis Kalimat**"
      ],
      "metadata": {
        "id": "e3Y3NkBGM-JK"
      }
    },
    {
      "cell_type": "code",
      "source": [
        "kalimat = \"Saya kuliah di Politeknik Negeri Semarang\"\n",
        "daftar_kata = kalimat.split(\" \")\n",
        "\n",
        "print(f\"Jumlah kata: {len(daftar_kata)}\")\n",
        "for i, kata in enumerate(daftar_kata, start=1):\n",
        "    print(i, kata)"
      ],
      "metadata": {
        "colab": {
          "base_uri": "https://localhost:8080/"
        },
        "id": "7NdmDlJkNBT0",
        "outputId": "8294706b-5c6f-4f60-b15d-74714c8eb75f"
      },
      "execution_count": null,
      "outputs": [
        {
          "output_type": "stream",
          "name": "stdout",
          "text": [
            "Jumlah kata: 6\n",
            "1 Saya\n",
            "2 kuliah\n",
            "3 di\n",
            "4 Politeknik\n",
            "5 Negeri\n",
            "6 Semarang\n"
          ]
        }
      ]
    },
    {
      "cell_type": "markdown",
      "source": [
        "# **Penugasan 1: Indexing dan Slicing**"
      ],
      "metadata": {
        "id": "u0g2nBXsNN_t"
      }
    },
    {
      "cell_type": "code",
      "source": [
        "teks = \"Politeknik Negeri Semarang\"\n",
        "print(teks[0]) # 'P'\n",
        "print(teks[-1:]) # 'Politeknik'\n",
        "print(teks[11:17]) # 'Semarang'"
      ],
      "metadata": {
        "colab": {
          "base_uri": "https://localhost:8080/"
        },
        "id": "7txg0dzIQB-M",
        "outputId": "9ea1461d-81a1-4b85-9707-f27752380547"
      },
      "execution_count": null,
      "outputs": [
        {
          "output_type": "stream",
          "name": "stdout",
          "text": [
            "P\n",
            "g\n",
            "Negeri\n"
          ]
        }
      ]
    },
    {
      "cell_type": "markdown",
      "source": [
        "# **Penugasan 2: Manipulasi String**"
      ],
      "metadata": {
        "id": "YmA4MebIQfdS"
      }
    },
    {
      "cell_type": "code",
      "source": [
        "teks = input(\"Masukkan teks di sini: \")\n",
        "print(teks.upper())\n",
        "print(teks.lower())\n",
        "print(len(teks))"
      ],
      "metadata": {
        "colab": {
          "base_uri": "https://localhost:8080/"
        },
        "id": "uo4NNF1IQjwX",
        "outputId": "930b0f11-9ad3-4cc5-cb0d-34176bb8aced"
      },
      "execution_count": null,
      "outputs": [
        {
          "output_type": "stream",
          "name": "stdout",
          "text": [
            "Masukkan teks di sini: Jaringan Komunikasi\n",
            "JARINGAN KOMUNIKASI\n",
            "jaringan komunikasi\n",
            "19\n"
          ]
        }
      ]
    },
    {
      "cell_type": "markdown",
      "source": [
        "# **Penugasan 3: Validasi Username**"
      ],
      "metadata": {
        "id": "5Ivl7iB9TecI"
      }
    },
    {
      "cell_type": "code",
      "source": [
        "username = input(\"Masukkan username: \")\n",
        "if \" \" in username:\n",
        "  print(\"Username tidak sah\")\n",
        "else:\n",
        "  print(\"Username valid\")"
      ],
      "metadata": {
        "colab": {
          "base_uri": "https://localhost:8080/"
        },
        "id": "SNY46M9iTiVY",
        "outputId": "72af8aae-cb7a-4163-8e03-3208832e71e9"
      },
      "execution_count": null,
      "outputs": [
        {
          "output_type": "stream",
          "name": "stdout",
          "text": [
            "Masukkan username: Baris terus\n",
            "Username tidak sah\n"
          ]
        }
      ]
    },
    {
      "cell_type": "markdown",
      "source": [
        "# **Penugasan 4: String Formatting dengan F-String**"
      ],
      "metadata": {
        "id": "-fp81vj6UKe6"
      }
    },
    {
      "cell_type": "code",
      "source": [
        "nama = input(\"Masukkan nama Anda: \")\n",
        "umur = input(\"Masukkan umur Anda: \")\n",
        "jurusan = input(\"Masukkan jurusan Anda: \")\n",
        "\n",
        "print(f\"Nama: {nama}\")\n",
        "print(f\"Umur: {umur}\")\n",
        "print(f\"Jurusan: {jurusan}\")"
      ],
      "metadata": {
        "colab": {
          "base_uri": "https://localhost:8080/"
        },
        "id": "bQttIghiArfC",
        "outputId": "af3303c4-7934-4b0e-bb45-7ba101a2d132"
      },
      "execution_count": null,
      "outputs": [
        {
          "output_type": "stream",
          "name": "stdout",
          "text": [
            "Masukkan nama Anda: Nanda\n",
            "Masukkan umur Anda: 22\n",
            "Masukkan jurusan Anda: Teknik Telekomunikasi\n",
            "Nama: Nanda\n",
            "Umur: 22\n",
            "Jurusan: Teknik Telekomunikasi\n"
          ]
        }
      ]
    },
    {
      "cell_type": "markdown",
      "source": [
        "# **Penugasan 5: Operasi dalam F-String**"
      ],
      "metadata": {
        "id": "WCNzB9r3_304"
      }
    },
    {
      "cell_type": "code",
      "source": [
        "num1 = int(input(\"Masukkan bilangan pertama: \"))\n",
        "num2 = int(input(\"Masukkan bilangan kedua: \"))\n",
        "\n",
        "print(f\"Hasil penjumlahan {num1} + {num2}: {num1 + num2}\")\n",
        "print(f\"Hasil perkalian {num1} * {num2}: {num1 * num2}\")\n",
        "print(f\"Hasil pembagian {num1} / {num2}: {num1 / num2:.3f}\")"
      ],
      "metadata": {
        "colab": {
          "base_uri": "https://localhost:8080/"
        },
        "id": "kj3Bsl9HUQXz",
        "outputId": "cc183edd-7b48-4c13-da6c-ea93f11b5f77"
      },
      "execution_count": null,
      "outputs": [
        {
          "output_type": "stream",
          "name": "stdout",
          "text": [
            "Masukkan bilangan pertama: 74\n",
            "Masukkan bilangan kedua: 21\n",
            "Hasil penjumlahan 74 + 21: 95\n",
            "Hasil perkalian 74 * 21: 1554\n",
            "Hasil pembagian 74 / 21: 3.524\n"
          ]
        }
      ]
    },
    {
      "cell_type": "markdown",
      "source": [
        "# **Penugasan 6: Casting Data**"
      ],
      "metadata": {
        "id": "yLKvuKmfBMzY"
      }
    },
    {
      "cell_type": "code",
      "source": [
        "num = input(\"Masukkan angka: \")\n",
        "\n",
        "kuadrat = int(num)  ** 2\n",
        "kuadrat = float(kuadrat)\n",
        "\n",
        "print(f\"Kuadratnya adalah: {kuadrat:.2f}\")\n",
        "\n",
        "akar_kuadrat = int(num) ** 0.5\n",
        "\n",
        "print(f\"Akar kuadratnya adalah: {akar_kuadrat:.2f}\")"
      ],
      "metadata": {
        "colab": {
          "base_uri": "https://localhost:8080/"
        },
        "id": "916NBIWSCYuf",
        "outputId": "810a89ef-7ce5-4da4-fdec-e800d0ba9366"
      },
      "execution_count": null,
      "outputs": [
        {
          "output_type": "stream",
          "name": "stdout",
          "text": [
            "Masukkan angka: 14\n",
            "Kuadratnya adalah: 196.00\n",
            "Akar kuadratnya adalah: 3.74\n"
          ]
        }
      ]
    },
    {
      "cell_type": "markdown",
      "source": [
        "# **Penugasan 7: Studi Kasus - Analisis Teks**"
      ],
      "metadata": {
        "id": "5qH2sP0oNc5r"
      }
    },
    {
      "cell_type": "code",
      "source": [
        "kalimat = input(\"Masukkan kalimat yang akan dianalisis: \")\n",
        "\n",
        "jumlah_kata = len(kalimat)\n",
        "daftar_kata = sorted(kalimat.split())\n",
        "terpanjang = max(daftar_kata, key=len)\n",
        "\n",
        "print(f\"Jumlah kata: {jumlah_kata}\")\n",
        "print(f\"Kata terpanjang: {terpanjang}\")\n",
        "print(\"Daftar kata:\")\n",
        "\n",
        "for i, kata in enumerate(daftar_kata, start=1):\n",
        "  print(f\"{i} {kata}\")"
      ],
      "metadata": {
        "colab": {
          "base_uri": "https://localhost:8080/"
        },
        "id": "fGf42rH0PQj7",
        "outputId": "ad8dcd5a-5eb9-4502-b24b-6c0411b959d4"
      },
      "execution_count": null,
      "outputs": [
        {
          "output_type": "stream",
          "name": "stdout",
          "text": [
            "Masukkan kalimat yang akan dianalisis: pagiku cerahku matahari bersinar kugendong tas merahku di pundak\n",
            "Jumlah kata: 64\n",
            "Kata terpanjang: kugendong\n",
            "Daftar kata:\n",
            "1 bersinar\n",
            "2 cerahku\n",
            "3 di\n",
            "4 kugendong\n",
            "5 matahari\n",
            "6 merahku\n",
            "7 pagiku\n",
            "8 pundak\n",
            "9 tas\n"
          ]
        }
      ]
    }
  ]
}